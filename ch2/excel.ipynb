{
 "cells": [
  {
   "cell_type": "markdown",
   "metadata": {},
   "source": [
    "pip : 파이썬 모듈이나 패키지를 쉽게 설치할 수 있도록 도와주는 도구\n",
    "1. 패키지 설치\n",
    "pip install 패키지명\n",
    "pip install 패키지명==1.0.4 (버전)\n",
    "\n",
    "2. 패키지 업그레이드\n",
    "pip install -- upgrade 패키지명 (버전업)\n",
    "\n",
    "3. 패키지 제거\n",
    "pip uninstall 패키지명\n",
    "\n",
    "4. 설치된 패키지 확인\n",
    "pip list\n",
    "\n",
    "pip install openpyxl : 엑셀파일 패키지\n",
    "\n",
    "pip insrall Pillow : 이미지 패키지"
   ]
  },
  {
   "cell_type": "code",
   "execution_count": 4,
   "metadata": {},
   "outputs": [],
   "source": [
    "from openpyxl import Workbook\n",
    "wb = Workbook() # 새 워크북 생성\n",
    "ws = wb.active # 현재 활성화된 sheet 가져옴\n",
    "\n",
    "ws.title = \"시트1\"\n",
    "wb.save(\"./resource/sample.xlsx\")\n",
    "wb.close()"
   ]
  },
  {
   "cell_type": "code",
   "execution_count": 10,
   "metadata": {},
   "outputs": [],
   "source": [
    "# 시트 생성\n",
    "ws1 = wb.create_sheet()\n",
    "ws1.title = \"시트2\"\n",
    "ws1.sheet_properties.tabColor = \"ff66ff\"\n",
    "\n",
    "wb.save(\"./resource/sample.xlsx\")"
   ]
  },
  {
   "cell_type": "code",
   "execution_count": 11,
   "metadata": {},
   "outputs": [],
   "source": [
    "# index : 시트 위치 지정\n",
    "ws1 = wb.create_sheet(title=\"급여명세\", index=2)\n",
    "\n",
    "# 시트 복사\n",
    "new_ws = wb[\"시트2\"]\n",
    "new_ws[\"A1\"] = \"Test\"\n",
    "target = wb.copy_worksheet(new_ws)\n",
    "target.title=\"Copied Sheet\"\n",
    "\n",
    "wb.save(\"./resource/sample.xlsx\")"
   ]
  },
  {
   "cell_type": "code",
   "execution_count": 12,
   "metadata": {},
   "outputs": [
    {
     "data": {
      "text/plain": [
       "['시트1',\n",
       " '시트2',\n",
       " '급여명세3',\n",
       " '급여명세2',\n",
       " '급여명세1',\n",
       " '급여명세',\n",
       " '시트21',\n",
       " 'Copied Sheet',\n",
       " 'Copied Sheet1',\n",
       " '시트22',\n",
       " 'Copied Sheet2']"
      ]
     },
     "execution_count": 12,
     "metadata": {},
     "output_type": "execute_result"
    }
   ],
   "source": [
    "# 생성된 모든 시트명 가져오기\n",
    "wb.sheetnames"
   ]
  },
  {
   "cell_type": "code",
   "execution_count": 19,
   "metadata": {},
   "outputs": [
    {
     "name": "stdout",
     "output_type": "stream",
     "text": [
      "<Cell '시트1'.A1>\n",
      "1\n",
      "1\n",
      "7\n",
      "10\n"
     ]
    }
   ],
   "source": [
    "# \n",
    "ws1 = wb[\"시트1\"]\n",
    "\n",
    "# 셀에 데이터 입력\n",
    "ws1[\"A1\"] = 1\n",
    "ws1[\"A2\"] = 2\n",
    "ws1[\"A3\"] = 3\n",
    "ws1[\"A4\"] = 4\n",
    "\n",
    "ws1[\"B1\"] = 5\n",
    "ws1[\"B2\"] = 6\n",
    "ws1[\"B3\"] = 7\n",
    "ws1[\"B4\"] = 8\n",
    "\n",
    "print(ws1[\"A1\"]) # 셀 정보 출력\n",
    "print(ws1[\"A1\"].value) # 셀 값 출력\n",
    "\n",
    "print(ws1.cell(row=1,column=1).value) # A1\n",
    "print(ws1.cell(row=3,column=2).value) # B3\n",
    "\n",
    "w = ws1.cell(row=1, column=3, value=10)\n",
    "print(w.value)\n",
    "wb.save(\"./resource/sample.xlsx\")\n"
   ]
  },
  {
   "cell_type": "code",
   "execution_count": 21,
   "metadata": {},
   "outputs": [],
   "source": [
    "# 1~100 사이의 임의의 숫자를 채우기\n",
    "from random import randint\n",
    "wb = Workbook() # 새 워크북 생성\n",
    "ws = wb.active # 현재 활성화된 sheet 가져옴\n",
    "\n",
    "ws.title = \"시트1\"\n",
    "\n",
    "for x in range(1, 11):\n",
    "    for y in range(1, 11):\n",
    "        ws.cell(row=x, column=y, value=randint(1, 100))\n",
    "\n",
    "\n",
    "wb.save(\"./resource/sample2.xlsx\")\n",
    "wb.close()"
   ]
  },
  {
   "cell_type": "code",
   "execution_count": 26,
   "metadata": {},
   "outputs": [
    {
     "name": "stdout",
     "output_type": "stream",
     "text": [
      "80 4 22 67 83 21 64 1 47 54 \n",
      "49 13 70 1 18 77 96 82 29 87 \n",
      "56 82 54 46 81 71 89 40 41 24 \n",
      "28 83 99 92 41 43 68 81 67 38 \n",
      "80 13 49 76 95 26 66 16 26 26 \n",
      "49 87 56 80 26 61 91 36 82 75 \n",
      "17 42 49 41 34 4 58 92 83 69 \n",
      "51 71 88 6 9 27 62 11 75 34 \n",
      "16 46 93 6 22 95 52 61 62 79 \n",
      "74 100 63 50 72 85 74 40 56 12 \n"
     ]
    }
   ],
   "source": [
    "# excel 파일 열기\n",
    "\n",
    "from openpyxl import load_workbook\n",
    "wb = load_workbook(\"./resource/sample2.xlsx\")\n",
    "\n",
    "# 워크시트 가져오기\n",
    "ws = wb.active\n",
    "\n",
    "# 셀 내용 가져오기 - 행, 열 개수 알고 있을 때\n",
    "for x in range(1, ws.max_row + 1):\n",
    "    for y in range(1, ws.max_column + 1):\n",
    "        print(ws.cell(row=x, column=y).value,end=\" \")\n",
    "    print()"
   ]
  },
  {
   "cell_type": "code",
   "execution_count": null,
   "metadata": {},
   "outputs": [],
   "source": []
  },
  {
   "cell_type": "code",
   "execution_count": 48,
   "metadata": {},
   "outputs": [
    {
     "name": "stdout",
     "output_type": "stream",
     "text": [
      "영어 70 19 92 4 100 73 10 76 59 16 \n",
      "수학 86 34 52 25 100 51 16 86 55 56 \n",
      "번호\n",
      "영어\n",
      "수학\n",
      "1 70 86 \n",
      "2 19 34 \n",
      "3 92 52 \n",
      "4 4 25 \n",
      "5 100 100 \n",
      "6 73 51 \n",
      "7 10 16 \n",
      "8 76 86 \n",
      "9 59 55 \n",
      "10 16 56 \n",
      "영어\n",
      "70\n",
      "19\n",
      "92\n",
      "4\n",
      "100\n",
      "73\n",
      "10\n",
      "76\n",
      "59\n",
      "16\n",
      "10\n",
      "10\n",
      "10\n",
      "번호 \n",
      "1 \n",
      "2 \n",
      "3 \n",
      "4 \n",
      "번호 1 2 3 4 \n",
      "영어 70 19 92 4 \n"
     ]
    }
   ],
   "source": [
    "wb = Workbook() # 새 워크북 생성\n",
    "ws = wb.active # 현재 활성화된 sheet 가져옴\n",
    "\n",
    "# 행 삽입\n",
    "ws.append([\"번호\",\"영어\",\"수학\"])\n",
    "for i in range(1, 11):\n",
    "        ws.append([i, randint(i, 100), randint(1, 100)])\n",
    "\n",
    "# 컬럼 가져오기\n",
    "# col_B = ws[\"B\"]\n",
    "# print(col_B)\n",
    "\n",
    "# for cell in col_B:\n",
    "#         print(cell.value)\n",
    "\n",
    "cols = ws[\"B:C\"]\n",
    "for c in cols:\n",
    "    for cell in c:\n",
    "        print(cell.value, end=\" \")\n",
    "    print()\n",
    "\n",
    "# 행 가져오기\n",
    "row_title = ws[1]\n",
    "for cell in row_title:\n",
    "     print(cell.value)\n",
    "     \n",
    "row_title = ws[2:ws.max_row]\n",
    "for rows in row_title:\n",
    "    for cell in rows:\n",
    "        print(cell.value, end=\" \")\n",
    "    print()\n",
    "\n",
    "for row in tuple(ws.rows):\n",
    "     print(row[1].value)\n",
    "\n",
    "for col in tuple(ws.columns):\n",
    "     print(row[0].value)\n",
    "\n",
    "for row in ws.iter_rows(min_row=1, max_row=5, max_col =1):\n",
    "     for cell in row:\n",
    "          print(cell.value, end=\" \")\n",
    "     print()\n",
    "     \n",
    "for col in ws.iter_cols(min_row=1, max_row=5, max_col =2):\n",
    "     for cell in col:\n",
    "          print(cell.value, end=\" \")\n",
    "     print()\n",
    "wb.save(\"./resource/sample2.xlsx\")\n",
    "wb.close()"
   ]
  },
  {
   "cell_type": "code",
   "execution_count": null,
   "metadata": {},
   "outputs": [],
   "source": []
  }
 ],
 "metadata": {
  "kernelspec": {
   "display_name": "venv",
   "language": "python",
   "name": "python3"
  },
  "language_info": {
   "codemirror_mode": {
    "name": "ipython",
    "version": 3
   },
   "file_extension": ".py",
   "mimetype": "text/x-python",
   "name": "python",
   "nbconvert_exporter": "python",
   "pygments_lexer": "ipython3",
   "version": "3.12.3"
  }
 },
 "nbformat": 4,
 "nbformat_minor": 2
}
